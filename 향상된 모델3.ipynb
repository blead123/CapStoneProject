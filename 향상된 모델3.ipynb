{
 "cells": [
  {
   "cell_type": "code",
   "execution_count": null,
   "metadata": {},
   "outputs": [],
   "source": [
    "import tensorflow as tf\n",
    "import os\n",
    "import matplotlib.pyplot as plt\n",
    "import numpy as np\n",
    "from keras.models import load_model\n",
    "from tensorflow import keras\n",
    "from tensorflow.keras import layers\n",
    "from keras.callbacks import EarlyStopping"
   ]
  },
  {
   "cell_type": "code",
   "execution_count": null,
   "metadata": {
    "scrolled": false
   },
   "outputs": [],
   "source": [
    "# 훈련된 모델과 데이터를 로드\n",
    "import pickle\n",
    "pickle_in = open(\"5000_1x.pickles\",\"rb\")\n",
    "X=pickle.load(pickle_in)\n",
    "\n",
    "pickle_in = open(\"5000_1y.pickles\",\"rb\")\n",
    "y=pickle.load(pickle_in)\n",
    "\n",
    "dect_model = load_model('5000_test_model.h5')\n",
    "dect_model.summary()"
   ]
  },
  {
   "cell_type": "code",
   "execution_count": null,
   "metadata": {},
   "outputs": [],
   "source": [
    "import cv2"
   ]
  },
  {
   "cell_type": "code",
   "execution_count": null,
   "metadata": {
    "scrolled": true
   },
   "outputs": [],
   "source": [
    "## 예측용 모델\n",
    "img_size=224\n",
    "img_array = cv2.imread(\"Train_Dataset/Closed_Eyes/s0036_00224_1_0_0_0_0_01.png\",cv2.IMREAD_GRAYSCALE)\n",
    "backtorgb = cv2.cvtColor(img_array,cv2.COLOR_GRAY2RGB)\n",
    "new_array = cv2.resize(backtorgb,(img_size,img_size))\n",
    "\n",
    "# X_input = np.array(new_array).reshape(1,26 ,34 ,1 )\n",
    "# X_input.shape\n",
    "\n",
    "X_input = np.array(new_array).reshape(1,img_size,img_size,3)\n",
    "X_input.shape"
   ]
  },
  {
   "cell_type": "code",
   "execution_count": null,
   "metadata": {
    "scrolled": false
   },
   "outputs": [],
   "source": [
    "plt.imshow(new_array)"
   ]
  },
  {
   "cell_type": "code",
   "execution_count": null,
   "metadata": {},
   "outputs": [],
   "source": [
    "X_input=X_input/255.0"
   ]
  },
  {
   "cell_type": "code",
   "execution_count": null,
   "metadata": {
    "scrolled": true
   },
   "outputs": [],
   "source": [
    "prediction = dect_model.predict(X_input)\n",
    "prediction"
   ]
  },
  {
   "cell_type": "code",
   "execution_count": null,
   "metadata": {},
   "outputs": [],
   "source": [
    "## 임의의 이미지 체크\n",
    "img = cv2.imread('close3.png')\n",
    "face_cascade = cv2.CascadeClassifier(cv2.data.haarcascades+'haarcascade_frontalface_default.xml')\n",
    "eye_cascade = cv2.CascadeClassifier(cv2.data.haarcascades+'haarcascade_eye.xml')\n",
    "gray = cv2.cvtColor(img,cv2.COLOR_BGR2GRAY)\n",
    "eyes = eye_cascade.detectMultiScale(gray,1.1,4)\n",
    "\n",
    "for(x,y,w,h)in eyes:\n",
    "    cv2.rectangle(img,(x,y),(x+w,y+h),(0,255,0),2)\n",
    "    \n",
    "plt.imshow(cv2.cvtColor(img,cv2.COLOR_BGR2RGB))"
   ]
  },
  {
   "cell_type": "code",
   "execution_count": null,
   "metadata": {},
   "outputs": [],
   "source": [
    "##croping the eyes images-->눈만 짤라내기\n",
    "eye_cascade =cv2.CascadeClassifier(cv2.data.haarcascades+'haarcascade_eye.xml')\n",
    "gray = cv2.cvtColor(img,cv2.COLOR_BGR2RGB)\n",
    "eyes = eye_cascade.detectMultiScale(gray,1.1,4)\n",
    "\n",
    "for x,y,w,h in eyes:\n",
    "    roi_gray = gray[y:y+h,x:x+w]\n",
    "    roi_color = img[y:y+h,x:x+w]\n",
    "    eyess = eye_cascade.detectMultiScale(roi_gray)\n",
    "    if(len(eyess)==0):\n",
    "        print(\"눈이 감지 되지 않았습니다\")\n",
    "    else : \n",
    "        for(ex,ey,ew,eh) in eyess:\n",
    "            eyes_roi = roi_color[ey:ey+eh,ex:ex+ew]"
   ]
  },
  {
   "cell_type": "code",
   "execution_count": null,
   "metadata": {
    "scrolled": false
   },
   "outputs": [],
   "source": [
    "plt.imshow(cv2.cvtColor(eyes_roi , cv2.COLOR_BGR2RGB))\n",
    "eyes_roi.shape"
   ]
  },
  {
   "cell_type": "code",
   "execution_count": null,
   "metadata": {
    "scrolled": true
   },
   "outputs": [],
   "source": [
    "final_image = cv2.resize(eyes_roi,(224,224))\n",
    "final_image = np.expand_dims(final_image,axis=0)\n",
    "final_image = final_image/225.0\n",
    "final_image.shape\n",
    "dect_model.predict(final_image)"
   ]
  },
  {
   "cell_type": "code",
   "execution_count": 1,
   "metadata": {},
   "outputs": [
    {
     "output_type": "stream",
     "name": "stdout",
     "text": [
      "눈 떠있었던(?) 시간 4.525\n"
     ]
    }
   ],
   "source": [
    "import time\n",
    "import winsound\n",
    "frequncy = 2500 ## 빈도를 2500hz 설정\n",
    "duration = 1000 ## 울리는 시간은 1초(1000ms)\n",
    "import numpy as np\n",
    "import cv2\n",
    "\n",
    "\n",
    "\n",
    "def check_eyes():\n",
    "    font = cv2.FONT_HERSHEY_SIMPLEX\n",
    "    faceCascade = cv2.CascadeClassifier(cv2.data.haarcascades + 'haarcascade_frontalface_default.xml')\n",
    "    eye_cascade = cv2.CascadeClassifier(cv2.data.haarcascades + 'haarcascade_eye_tree_eyeglasses.xml')\n",
    "\n",
    "    cap = cv2.VideoCapture(0) ### 웹캠 체크 ##\n",
    "    if not cap.isOpened():\n",
    "        cap = cv2.VideoCapture(1)\n",
    "    if not cap.isOpened():\n",
    "        raise IOError(\"웹캡이 열리지 않았습니다\")\n",
    "\n",
    "    start_time = time.time()\n",
    "    last_time = time.time()\n",
    "\n",
    "    while True:\n",
    "        ret, frame = cap.read()\n",
    "        gray = cv2.cvtColor(frame, cv2.COLOR_BGR2GRAY)\n",
    "        eyes = eye_cascade.detectMultiScale(gray, 1.1, 4)\n",
    "        # faces = faceCascade.detectMultiScale(gray, 1.1, 4)\n",
    "\n",
    "        for x,y,w,h in eyes: # 눈 사각형표시\n",
    "            roi_gray = gray[y:y+h,x:x+w]\n",
    "            roi_color = frame[y:y+h,x:x+w]\n",
    "            cv2.rectangle(frame, (x,y), (x+w,y+h), (0,255,0), 2) # green\n",
    "        # for x,y,w,h in faces: # 열굴 사각형표시\n",
    "            # cv2.rectangle(frame, (x,y), (x+w,y+h), (128, 128, 128), 2) # gray\n",
    "        \n",
    "        if len(eyes): # 눈을 뜬 상태이면\n",
    "            last_time = time.time() # 시간 리셋\n",
    "            cv2.putText(frame, 'active', (30, 30), font, 0.7, (0,255,0), 2)\n",
    "        else:\n",
    "            cv2.putText(frame, 'time= %.3f' % (time.time()-last_time), (30, 30), font, 0.7, (0,0,255), 2)\n",
    "\n",
    "        if time.time() - last_time > 3: # 3초 이상 눈 감으면\n",
    "            cv2.putText(frame,'Sleep Alert', (30, 60), font, 0.7, (0,0,255), 2)\n",
    "            cap.release()\n",
    "            return time.time() - start_time - 3 # 3을빼준이유는 3초간 눈감은시간까지 체크되기때문\n",
    "\n",
    "        cv2.imshow('Drowsniess Dectection',frame)\n",
    "        if cv2.waitKey(2) & 0xFF == ord('q'):\n",
    "            cap.release()\n",
    "            return -1\n",
    "\n",
    "            \n",
    "\n",
    "result = check_eyes()\n",
    "\n",
    "if result == -1:\n",
    "    print('키보드로 끔')\n",
    "else:\n",
    "    print('눈 떠있었던(?) 시간 %.3f' % (result))\n",
    "        \n",
    "cv2.destroyAllWindows()"
   ]
  }
 ],
 "metadata": {
  "kernelspec": {
   "name": "python386jvsc74a57bd01baa965d5efe3ac65b79dfc60c0d706280b1da80fedb7760faf2759126c4f253",
   "display_name": "Python 3.8.6 64-bit"
  },
  "language_info": {
   "codemirror_mode": {
    "name": "ipython",
    "version": 3
   },
   "file_extension": ".py",
   "mimetype": "text/x-python",
   "name": "python",
   "nbconvert_exporter": "python",
   "pygments_lexer": "ipython3",
   "version": "3.8.6"
  },
  "metadata": {
   "interpreter": {
    "hash": "1baa965d5efe3ac65b79dfc60c0d706280b1da80fedb7760faf2759126c4f253"
   }
  }
 },
 "nbformat": 4,
 "nbformat_minor": 4
}